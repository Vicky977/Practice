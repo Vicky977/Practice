{
 "cells": [
  {
   "cell_type": "code",
   "execution_count": 3,
   "id": "12b96a70",
   "metadata": {},
   "outputs": [
    {
     "name": "stdout",
     "output_type": "stream",
     "text": [
      "('cabbage', 'cucumber', 'tomato', 'spinach', 'strawberry', 'pineapple', 'banana', 'cranberry')\n"
     ]
    }
   ],
   "source": [
    "vegetables='cabbage','cucumber','tomato','spinach'\n",
    "fruits='strawberry','pineapple','banana','cranberry'\n",
    "fruit_vegetable=vegetables+fruits\n",
    "print(fruit_vegetable)"
   ]
  },
  {
   "cell_type": "code",
   "execution_count": 5,
   "id": "92afd063",
   "metadata": {},
   "outputs": [
    {
     "name": "stdout",
     "output_type": "stream",
     "text": [
      "8\n"
     ]
    }
   ],
   "source": [
    "num=len(fruit_vegetable)\n",
    "print(num)"
   ]
  },
  {
   "cell_type": "code",
   "execution_count": 9,
   "id": "37c1a7da",
   "metadata": {},
   "outputs": [
    {
     "name": "stdout",
     "output_type": "stream",
     "text": [
      "('cabbage', 'cucumber', 'tomato', 'spinach', 'strawberry', 'pineapple', 'banana', 'cranberry', 'oyster mushroom', 'soft drinks')\n"
     ]
    }
   ],
   "source": [
    "food_tuple=fruit_vegetable+('oyster mushroom','soft drinks',)\n",
    "print(food_tuple)"
   ]
  },
  {
   "cell_type": "code",
   "execution_count": 11,
   "id": "d2e6fb68",
   "metadata": {},
   "outputs": [
    {
     "name": "stdout",
     "output_type": "stream",
     "text": [
      "oyster mushroom soft drinks\n"
     ]
    }
   ],
   "source": [
    "(a,b,c,d,e,f,g,h,i,j)=food_tuple\n",
    "print(i,j)"
   ]
  },
  {
   "cell_type": "code",
   "execution_count": 13,
   "id": "f2c5ff73",
   "metadata": {},
   "outputs": [
    {
     "name": "stdout",
     "output_type": "stream",
     "text": [
      "('strawberry', 'pineapple')\n"
     ]
    }
   ],
   "source": [
    "food_list=list(food_tuple)\n",
    "middle=food_tuple[4:6]\n",
    "print(middle)"
   ]
  },
  {
   "cell_type": "code",
   "execution_count": 18,
   "id": "32a6e29f",
   "metadata": {},
   "outputs": [
    {
     "name": "stdout",
     "output_type": "stream",
     "text": [
      "['cabbage', 'cucumber', 'tomato', 'spinach']\n",
      "['banana', 'cranberry', 'oyster mushroom']\n"
     ]
    }
   ],
   "source": [
    "first3=food_list[:4]\n",
    "last3=food_list[-4:-1]\n",
    "print(first3)\n",
    "print(last3)"
   ]
  },
  {
   "cell_type": "code",
   "execution_count": 21,
   "id": "1c5fc8d9",
   "metadata": {},
   "outputs": [],
   "source": [
    "del food_list"
   ]
  },
  {
   "cell_type": "code",
   "execution_count": 1,
   "id": "8729d725",
   "metadata": {},
   "outputs": [
    {
     "name": "stdout",
     "output_type": "stream",
     "text": [
      "False\n",
      "True\n"
     ]
    }
   ],
   "source": [
    "asian_countries = ('India','China','Singapore','Thailand','Indonesia')\n",
    "a='Finland'in asian_countries\n",
    "b='India'in asian_countries\n",
    "print(a)\n",
    "print(b)"
   ]
  }
 ],
 "metadata": {
  "kernelspec": {
   "display_name": "Python 3 (ipykernel)",
   "language": "python",
   "name": "python3"
  },
  "language_info": {
   "codemirror_mode": {
    "name": "ipython",
    "version": 3
   },
   "file_extension": ".py",
   "mimetype": "text/x-python",
   "name": "python",
   "nbconvert_exporter": "python",
   "pygments_lexer": "ipython3",
   "version": "3.9.7"
  }
 },
 "nbformat": 4,
 "nbformat_minor": 5
}
