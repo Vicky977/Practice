{
 "cells": [
  {
   "cell_type": "code",
   "execution_count": 2,
   "id": "3708172d",
   "metadata": {},
   "outputs": [
    {
     "name": "stdout",
     "output_type": "stream",
     "text": [
      "26\n"
     ]
    }
   ],
   "source": [
    "age=26\n",
    "print(age)"
   ]
  },
  {
   "cell_type": "code",
   "execution_count": 4,
   "id": "ce4914c7",
   "metadata": {},
   "outputs": [
    {
     "name": "stdout",
     "output_type": "stream",
     "text": [
      "163.4\n"
     ]
    }
   ],
   "source": [
    "height=163.4\n",
    "print(height)"
   ]
  },
  {
   "cell_type": "code",
   "execution_count": 5,
   "id": "23c759f5",
   "metadata": {},
   "outputs": [],
   "source": [
    "complexnum=666.666"
   ]
  },
  {
   "cell_type": "code",
   "execution_count": 1,
   "id": "2250133a",
   "metadata": {},
   "outputs": [
    {
     "name": "stdout",
     "output_type": "stream",
     "text": [
      "please enter base of the triangle:20\n",
      "please enter height of the triangle:10\n",
      "100.0\n"
     ]
    }
   ],
   "source": [
    "base=input('please enter base of the triangle:')\n",
    "height=input('please enter height of the triangle:')\n",
    "square=int(base)*int(height)*0.5\n",
    "print(square)"
   ]
  },
  {
   "cell_type": "code",
   "execution_count": 2,
   "id": "78ed2fcc",
   "metadata": {},
   "outputs": [
    {
     "name": "stdout",
     "output_type": "stream",
     "text": [
      "please enter length of side a:5\n",
      "please enter length of side b:4\n",
      "please enter length of side c:3\n",
      "12\n"
     ]
    }
   ],
   "source": [
    "a=input('please enter length of side a:')\n",
    "b=input('please enter length of side b:')\n",
    "c=input('please enter length of side c:')\n",
    "perimeter=int(a)+int(b)+int(c)\n",
    "print(perimeter)"
   ]
  },
  {
   "cell_type": "code",
   "execution_count": 3,
   "id": "1a1d5ed5",
   "metadata": {},
   "outputs": [
    {
     "name": "stdout",
     "output_type": "stream",
     "text": [
      "please enter length of rectangle:5\n",
      "please enter width of rectangle:4\n",
      "20\n",
      "18\n"
     ]
    }
   ],
   "source": [
    "a=input('please enter length of rectangle:')\n",
    "b=input('please enter width of rectangle:')\n",
    "recsquare=int(a)*int(b)\n",
    "recperimeter=(int(a)+int(b))*2\n",
    "print(recsquare)\n",
    "print(recperimeter)"
   ]
  },
  {
   "cell_type": "code",
   "execution_count": 4,
   "id": "2329bcd5",
   "metadata": {},
   "outputs": [
    {
     "name": "stdout",
     "output_type": "stream",
     "text": [
      "please enter length of rectangle:4\n",
      "please enter width of rectangle:2\n",
      "8\n",
      "12\n"
     ]
    }
   ],
   "source": [
    "a=input('please enter length of rectangle:')\n",
    "b=input('please enter width of rectangle:')\n",
    "recsquare=int(a)*int(b)\n",
    "recperimeter=(int(a)+int(b))*2\n",
    "print(recsquare)\n",
    "print(recperimeter)"
   ]
  },
  {
   "cell_type": "code",
   "execution_count": 5,
   "id": "03aa4d2b",
   "metadata": {},
   "outputs": [
    {
     "name": "stdout",
     "output_type": "stream",
     "text": [
      "please enter your radius3\n",
      "the square of circle is 28.274333882308138 \n",
      "the perimeter of circle is 18.84955592153876 \n"
     ]
    }
   ],
   "source": [
    "import math\n",
    "r=input('please enter your radius')\n",
    "area=int(r)**2*math.pi\n",
    "circleperimeter=2*math.pi*int(r)\n",
    "print('the square of circle is {mianji} '.format(mianji=area) )\n",
    "print('the perimeter of circle is {zhouchang} '.format(zhouchang=circleperimeter) )"
   ]
  },
  {
   "cell_type": "code",
   "execution_count": 7,
   "id": "f2eafaa7",
   "metadata": {},
   "outputs": [
    {
     "name": "stdout",
     "output_type": "stream",
     "text": [
      "-2.0\n",
      "both intercept of x and y axis is 0\n",
      "please enter the coefficient of function2\n",
      "please enter the constant of function3\n",
      "the interceptx of the function is -1.5\n",
      "the intercepty of the function is 3\n",
      "please enter your x14\n",
      "please enter your x25\n",
      "please enter your y12\n",
      "please enter your y23\n",
      "1.0\n"
     ]
    }
   ],
   "source": [
    "import numpy as np\n",
    "np.random.seed(0)\n",
    "charlie=np.random.rand(2)\n",
    "x1=charlie[0]\n",
    "x2=charlie[1]\n",
    "y1=-2*x1\n",
    "y2=-2*x2\n",
    "slope=(y2-y1)/(x2-x1)\n",
    "print(slope)\n",
    "print(\"both intercept of x and y axis is 0\")\n",
    "d=int(input('please enter the coefficient of function'))\n",
    "e=int(input('please enter the constant of function'))\n",
    "np.random.seed(1)\n",
    "fox=np.random.rand(2)\n",
    "x3=fox[0]\n",
    "x4=fox[1]\n",
    "y3=d*x2+e\n",
    "y4=d*x2+e\n",
    "if x4-x3 == 0:\n",
    "    print('you cant divide by zero')\n",
    "else:\n",
    "   slope2=(y4-y3)/(x4-x3)\n",
    "   interceptx=-e/2\n",
    "   intercepty=e\n",
    "   print('the interceptx of the function is {aaa}'.format(aaa=interceptx))\n",
    "   print('the intercepty of the function is {bbb}'.format(bbb=intercepty))\n",
    "def slope(a,b,c,d):\n",
    "    if b-a==0:\n",
    "        return('invalid data')\n",
    "    else:\n",
    "       slp=(d-c)/(b-a)\n",
    "       return slp\n",
    "x5=int(input('please enter your x1'))\n",
    "x6=int(input('please enter your x2'))\n",
    "y5=int(input('please enter your y1'))\n",
    "y6=int(input('please enter your y2'))\n",
    "cosequence=slope(x5,x6,y5,y6)\n",
    "print(cosequence)"
   ]
  },
  {
   "cell_type": "code",
   "execution_count": 9,
   "id": "de889d0f",
   "metadata": {},
   "outputs": [
    {
     "name": "stdout",
     "output_type": "stream",
     "text": [
      "please enter your x1 to calculate euclidean5\n",
      "please enter your x2 to calculate euclidean5\n",
      "please enter your y1 to calculate euclidean7\n",
      "please enter your y2 to calculate euclidean8\n",
      "1.0\n",
      "True\n",
      "True\n",
      "True\n",
      "6.0\n"
     ]
    }
   ],
   "source": [
    "import math\n",
    "def euclidean(a,b,c,d):\n",
    "    eul=math.sqrt((a-b)**2+(c-d)**2)\n",
    "    return eul\n",
    "x7=int(input('please enter your x1 to calculate euclidean'))\n",
    "x8=int(input('please enter your x2 to calculate euclidean'))\n",
    "y7=int(input('please enter your y1 to calculate euclidean'))\n",
    "y8=int(input('please enter your y2 to calculate euclidean'))\n",
    "euc=euclidean(x7,x8,y7,y8)\n",
    "print(euc)\n",
    "p=len('python')\n",
    "data=len('datascience')\n",
    "data>p\n",
    "q='on' in 'python'\n",
    "w='on' in 'cannon'\n",
    "e='jargon' in 'I hope this course is not full of jargon.'\n",
    "print(q)\n",
    "print(w)\n",
    "print(e)\n",
    "r=len('python')\n",
    "t=float(r)\n",
    "y=str(t)\n",
    "print(y)"
   ]
  },
  {
   "cell_type": "code",
   "execution_count": null,
   "id": "822ad4a2",
   "metadata": {},
   "outputs": [],
   "source": [
    "def check(a):\n",
    "    if a%2==0:\n",
    "        return \"this is a even number\"\n",
    "    else:\n",
    "        return\"this is a odd number\"\n",
    "u=int(input('please enter a number to check wether it s even or odd'))\n",
    "i=check(u)\n",
    "print(i)\n",
    "z=7//3\n",
    "x=int(2.7)\n",
    "j=z==x\n",
    "print(j)\n",
    "k='10'==10\n",
    "print(k)"
   ]
  },
  {
   "cell_type": "code",
   "execution_count": null,
   "id": "e3f71e0e",
   "metadata": {},
   "outputs": [],
   "source": [
    "import numpy as np\n",
    "import matplotlib\n",
    "zzz=int(input(\"please enter your hours\"))\n",
    "zxc=int(input(\"please enter your rate\"))\n",
    "earn=zzz*zxc\n",
    "print(earn)\n",
    "year=int(input(\"please enter your year which you can live\"))\n",
    "sec=year*24*60*60*365\n",
    "print('you can live {agesecond}'.format(agesecond=sec))\n",
    "import pandas as pd\n",
    "row1=pd.Series([2,4,6,8,10],index=[1,2,3,4,5])\n",
    "row2=pd.Series([3,6,9,12,15],index=[1,2,3,4,5])\n",
    "row3=pd.Series([4,8,12,16,20],index=[1,2,3,4,5])\n",
    "row4=pd.Series([5,10,15,20,25],index=[1,2,3,4,5])\n",
    "data=pd.DataFrame({\" \":row1,\"  \":row2,\"   \":row3,\"      \":row4})\n",
    "print(data)"
   ]
  }
 ],
 "metadata": {
  "kernelspec": {
   "display_name": "Python 3 (ipykernel)",
   "language": "python",
   "name": "python3"
  },
  "language_info": {
   "codemirror_mode": {
    "name": "ipython",
    "version": 3
   },
   "file_extension": ".py",
   "mimetype": "text/x-python",
   "name": "python",
   "nbconvert_exporter": "python",
   "pygments_lexer": "ipython3",
   "version": "3.9.7"
  }
 },
 "nbformat": 4,
 "nbformat_minor": 5
}
