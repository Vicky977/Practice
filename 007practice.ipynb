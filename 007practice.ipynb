{
 "cells": [
  {
   "cell_type": "code",
   "execution_count": 2,
   "id": "de32f027",
   "metadata": {},
   "outputs": [],
   "source": [
    "#Python variables and Constants\n",
    "first_name='QI'\n",
    "last_name='WEI'\n",
    "full_name='QI WEI'\n",
    "country='China'\n",
    "is_light_on='ON'\n",
    "hobby='badminton','jogging'"
   ]
  },
  {
   "cell_type": "code",
   "execution_count": 4,
   "id": "bae82cb6",
   "metadata": {},
   "outputs": [
    {
     "data": {
      "text/plain": [
       "('badminton', 'jogging')"
      ]
     },
     "execution_count": 4,
     "metadata": {},
     "output_type": "execute_result"
    }
   ],
   "source": [
    "hobby"
   ]
  },
  {
   "cell_type": "code",
   "execution_count": 6,
   "id": "0751aa76",
   "metadata": {},
   "outputs": [
    {
     "data": {
      "text/plain": [
       "str"
      ]
     },
     "execution_count": 6,
     "metadata": {},
     "output_type": "execute_result"
    }
   ],
   "source": [
    "type(first_name)"
   ]
  },
  {
   "cell_type": "code",
   "execution_count": 8,
   "id": "61f79c60",
   "metadata": {},
   "outputs": [
    {
     "data": {
      "text/plain": [
       "str"
      ]
     },
     "execution_count": 8,
     "metadata": {},
     "output_type": "execute_result"
    }
   ],
   "source": [
    "type(last_name)"
   ]
  },
  {
   "cell_type": "code",
   "execution_count": 10,
   "id": "b5979651",
   "metadata": {},
   "outputs": [
    {
     "data": {
      "text/plain": [
       "str"
      ]
     },
     "execution_count": 10,
     "metadata": {},
     "output_type": "execute_result"
    }
   ],
   "source": [
    "type(full_name)"
   ]
  },
  {
   "cell_type": "code",
   "execution_count": 12,
   "id": "1b2d90d1",
   "metadata": {},
   "outputs": [
    {
     "data": {
      "text/plain": [
       "str"
      ]
     },
     "execution_count": 12,
     "metadata": {},
     "output_type": "execute_result"
    }
   ],
   "source": [
    "type(is_light_on)"
   ]
  },
  {
   "cell_type": "code",
   "execution_count": 14,
   "id": "521bba97",
   "metadata": {},
   "outputs": [
    {
     "data": {
      "text/plain": [
       "tuple"
      ]
     },
     "execution_count": 14,
     "metadata": {},
     "output_type": "execute_result"
    }
   ],
   "source": [
    "type(hobby)"
   ]
  },
  {
   "cell_type": "code",
   "execution_count": 17,
   "id": "7ec2886e",
   "metadata": {},
   "outputs": [
    {
     "data": {
      "text/plain": [
       "False"
      ]
     },
     "execution_count": 17,
     "metadata": {},
     "output_type": "execute_result"
    }
   ],
   "source": [
    "a=len(first_name)\n",
    "b=len(last_name)\n",
    "a>b"
   ]
  },
  {
   "cell_type": "code",
   "execution_count": 19,
   "id": "bab85a07",
   "metadata": {},
   "outputs": [
    {
     "data": {
      "text/plain": [
       "True"
      ]
     },
     "execution_count": 19,
     "metadata": {},
     "output_type": "execute_result"
    }
   ],
   "source": [
    "a<b"
   ]
  },
  {
   "cell_type": "code",
   "execution_count": 21,
   "id": "550c9589",
   "metadata": {},
   "outputs": [],
   "source": [
    "num_1=6\n",
    "num_2=4\n",
    "total=num_1+num_2\n",
    "diffrence=num_1-num_2\n",
    "product=num_1*num_2\n",
    "division=num_1/num_2\n",
    "remainder=num_1%num_2\n",
    "exp=num_1**num_2\n",
    "floor_division=num_1//num_2"
   ]
  },
  {
   "cell_type": "code",
   "execution_count": 23,
   "id": "6fbf7777",
   "metadata": {},
   "outputs": [
    {
     "name": "stdout",
     "output_type": "stream",
     "text": [
      "10\n",
      "2\n",
      "24\n",
      "1.5\n",
      "2\n",
      "1296\n",
      "1\n"
     ]
    }
   ],
   "source": [
    "print(total)\n",
    "print(diffrence)\n",
    "print(product)\n",
    "print(division)\n",
    "print(remainder)\n",
    "print(exp)\n",
    "print(floor_division)"
   ]
  },
  {
   "cell_type": "code",
   "execution_count": 27,
   "id": "364a88ff",
   "metadata": {},
   "outputs": [
    {
     "name": "stdout",
     "output_type": "stream",
     "text": [
      "2826.0\n"
     ]
    }
   ],
   "source": [
    "import math\n",
    "radius=30\n",
    "area_of_circle=3.14*radius*radius\n",
    "print(area_of_circle)"
   ]
  },
  {
   "cell_type": "code",
   "execution_count": 29,
   "id": "fc4e9752",
   "metadata": {},
   "outputs": [
    {
     "name": "stdout",
     "output_type": "stream",
     "text": [
      "188.4\n"
     ]
    }
   ],
   "source": [
    "circum_of_circle=2*3.14*radius\n",
    "print(circum_of_circle)"
   ]
  },
  {
   "cell_type": "code",
   "execution_count": 38,
   "id": "e574f184",
   "metadata": {},
   "outputs": [
    {
     "name": "stdout",
     "output_type": "stream",
     "text": [
      "pls enter your radius30\n",
      "2827.4333882308138\n"
     ]
    }
   ],
   "source": [
    "radius=input(\"pls enter your radius\")\n",
    "area_of_circle=int(radius)*int(radius)*math.pi\n",
    "print(area_of_circle)"
   ]
  },
  {
   "cell_type": "code",
   "execution_count": 39,
   "id": "27816013",
   "metadata": {},
   "outputs": [
    {
     "name": "stdout",
     "output_type": "stream",
     "text": [
      "pls enter your radius30\n",
      "188.49555921538757\n"
     ]
    }
   ],
   "source": [
    "radius=input(\"pls enter your radius\")\n",
    "circum_of_circle=int(radius)*2*math.pi\n",
    "print(circum_of_circle)"
   ]
  },
  {
   "cell_type": "code",
   "execution_count": 41,
   "id": "5ebba005",
   "metadata": {},
   "outputs": [
    {
     "name": "stdout",
     "output_type": "stream",
     "text": [
      "pls enter your first_nameQI\n",
      "pls enter your flast_nameWEI\n",
      "pls enter your countryChina\n",
      "First name: QI\n",
      "Last name:  WEI\n",
      "Country:  China\n"
     ]
    }
   ],
   "source": [
    "first_name=input(\"pls enter your first_name\")\n",
    "last_name=input(\"pls enter your flast_name\")\n",
    "country=input(\"pls enter your country\")\n",
    "\n",
    "print('First name:', first_name)\n",
    "print('Last name: ', last_name)\n",
    "print('Country: ', country)"
   ]
  }
 ],
 "metadata": {
  "kernelspec": {
   "display_name": "Python 3 (ipykernel)",
   "language": "python",
   "name": "python3"
  },
  "language_info": {
   "codemirror_mode": {
    "name": "ipython",
    "version": 3
   },
   "file_extension": ".py",
   "mimetype": "text/x-python",
   "name": "python",
   "nbconvert_exporter": "python",
   "pygments_lexer": "ipython3",
   "version": "3.9.7"
  }
 },
 "nbformat": 4,
 "nbformat_minor": 5
}
